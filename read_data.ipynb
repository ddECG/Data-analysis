{
 "cells": [
  {
   "cell_type": "code",
   "execution_count": 2,
   "metadata": {},
   "outputs": [],
   "source": [
    "# Imports\n",
    "import numpy as np\n",
    "import pandas as pd\n",
    "import wfdb\n",
    "import matplotlib.pyplot as plt\n",
    "import os\n",
    "import re\n",
    "from scipy import signal"
   ]
  },
  {
   "cell_type": "code",
   "execution_count": 187,
   "metadata": {},
   "outputs": [],
   "source": [
    "# Functions\n",
    "def remove_year_from_hea(filename: str) -> None:\n",
    "    '''\n",
    "    Removes year from header file in wfdb (.hea) on line 1. Run before reading file with wfdb functions. Does not overwrite original date,\n",
    "    where the function will rename original file to '***_original.hea'.\n",
    "\n",
    "    PS: Very rudementary function: will always remove 4 digit strings (regex based) if they appear to the left of newline char (\\n).\n",
    "\n",
    "    Args:\n",
    "        filepath to .hea-file (without .hea extension)\n",
    "    \n",
    "    Attributes:\n",
    "        None\n",
    "    '''\n",
    "    \n",
    "    # Open file\n",
    "    with open(filename + \".hea\", \"r\", encoding='utf-8') as f:\n",
    "        \n",
    "        # Read lines\n",
    "        text = f.readlines()\n",
    "\n",
    "        # Modify line 1 (with regex)\n",
    "        pattern = '\\s\\d{4}(?=(\\\\n))'\n",
    "        if not re.search(pattern, text[0]):\n",
    "            print(\"Year is already removed. Doing nothing.\")\n",
    "            return(1)\n",
    "        else:\n",
    "            print(\"Removing year from line 1\")\n",
    "            modified_line = re.sub(pattern, '', text[0])\n",
    "            text[0] = modified_line\n",
    "    \n",
    "    # Rename original file\n",
    "    os.rename(filename + '.hea', filename + '_original.hea')\n",
    "    \n",
    "    # Create new file\n",
    "    with open(filename + \".hea\", \"w\", encoding='utf-8') as f:\n",
    "        f.writelines(text)"
   ]
  },
  {
   "cell_type": "code",
   "execution_count": 195,
   "metadata": {},
   "outputs": [
    {
     "name": "stdout",
     "output_type": "stream",
     "text": [
      "Removing year from line 1\n"
     ]
    }
   ],
   "source": [
    "# Test functions\n",
    "remove_year_from_hea(\"data-raw/cardiovascular_complications/Data/ECG/S0033ECG\")\n",
    "\n",
    "# text = 'S0576ECG 8 1000 392658\\n'\n",
    "# pattern = '\\s\\d{4}(?=(\\\\n))'\n",
    "# if not re.search(pattern, text):\n",
    " #   print(True)\n",
    "\n",
    "\n",
    "# f = open(\"data-raw/cardiovascular_complications/Data/ECG/S0068ECG.hea\")\n",
    "# print(f.readlines(1))\n",
    "# pattern = '\\s\\d{4}(?=(\\\\n))'\n",
    "# org_string = \"S0068ECG 8 1000 377790 2010\\n\"\n",
    "\n",
    "# mod_string = re.sub(pattern, '', org_string )\n",
    "# print(mod_string)\n"
   ]
  },
  {
   "cell_type": "markdown",
   "metadata": {},
   "source": [
    "# Cardiometabolic data"
   ]
  },
  {
   "cell_type": "code",
   "execution_count": 219,
   "metadata": {},
   "outputs": [
    {
     "name": "stdout",
     "output_type": "stream",
     "text": [
      "Year is already removed. Doing nothing.\n"
     ]
    },
    {
     "data": {
      "text/plain": [
       "{'record_name': 'S0033ECG',\n",
       " 'n_sig': 8,\n",
       " 'fs': 1000,\n",
       " 'counter_freq': None,\n",
       " 'base_counter': None,\n",
       " 'sig_len': 595176,\n",
       " 'base_time': None,\n",
       " 'base_date': None,\n",
       " 'comments': [],\n",
       " 'sig_name': ['ecg_0',\n",
       "  'ecg_1',\n",
       "  'sensor_0',\n",
       "  'sensor_1',\n",
       "  'emg_0',\n",
       "  'emg_1',\n",
       "  'accelerometer_0',\n",
       "  'accelerometer_1'],\n",
       " 'p_signal': array([[ 2.600e+01,  1.200e+01,  6.270e+02, ...,  8.125e+03, -7.000e+00,\n",
       "          3.300e+01],\n",
       "        [ 2.900e+01,  9.000e+00,  6.270e+02, ...,  8.123e+03, -5.000e+00,\n",
       "          3.300e+01],\n",
       "        [ 2.600e+01,  6.000e+00,  6.270e+02, ...,  8.124e+03, -5.000e+00,\n",
       "          3.400e+01],\n",
       "        ...,\n",
       "        [ 1.300e+01,  1.500e+01,  6.170e+02, ...,  8.122e+03,  3.300e+01,\n",
       "          9.100e+01],\n",
       "        [ 3.000e+00,  1.600e+01,  6.170e+02, ...,  8.121e+03,  3.400e+01,\n",
       "          9.000e+01],\n",
       "        [ 2.000e+00,  1.500e+01,  6.170e+02, ...,  8.121e+03,  3.500e+01,\n",
       "          8.800e+01]]),\n",
       " 'd_signal': None,\n",
       " 'e_p_signal': None,\n",
       " 'e_d_signal': None,\n",
       " 'file_name': ['S0033ECG.dat',\n",
       "  'S0033ECG.dat',\n",
       "  'S0033ECG.dat',\n",
       "  'S0033ECG.dat',\n",
       "  'S0033ECG.dat',\n",
       "  'S0033ECG.dat',\n",
       "  'S0033ECG.dat',\n",
       "  'S0033ECG.dat'],\n",
       " 'fmt': ['16', '16', '16', '16', '16', '16', '16', '16'],\n",
       " 'samps_per_frame': [1, 1, 1, 1, 1, 1, 1, 1],\n",
       " 'skew': [None, None, None, None, None, None, None, None],\n",
       " 'byte_offset': [None, None, None, None, None, None, None, None],\n",
       " 'adc_gain': [1.0, 1.0, 1.0, 1.0, 1.0, 1.0, 1.0, 1.0],\n",
       " 'baseline': [0, 0, 0, 0, 0, 0, 0, 0],\n",
       " 'units': ['uV', 'uV', 'uV', 'uV', 'uV', 'uV', 'uV', 'uV'],\n",
       " 'adc_res': [16, 16, 16, 16, 16, 16, 16, 16],\n",
       " 'adc_zero': [0, 0, 0, 0, 0, 0, 0, 0],\n",
       " 'init_value': [26, 12, 627, -1650, 8084, 8125, -7, 33],\n",
       " 'checksum': [42058, 3978, 23476, 27275, 47030, 6173, 12590, 24507],\n",
       " 'block_size': [0, 0, 0, 0, 0, 0, 0, 0]}"
      ]
     },
     "metadata": {},
     "output_type": "display_data"
    },
    {
     "name": "stdout",
     "output_type": "stream",
     "text": [
      "measurement in minutes: 9.9196\n"
     ]
    }
   ],
   "source": [
    "remove_year_from_hea(\"data-raw/cardiovascular_complications/Data/ECG/S0033ECG\")\n",
    "cardio_record_1 = wfdb.rdrecord('data-raw/cardiovascular_complications/Data/ECG/S0033ECG')\n",
    "\n",
    "display(cardio_record_1.__dict__)\n",
    "print('measurement in minutes:', cardio_record_1.p_signal.shape[0] / cardio_record_1.fs / 60)"
   ]
  },
  {
   "cell_type": "code",
   "execution_count": null,
   "metadata": {},
   "outputs": [],
   "source": [
    "# Calculate time by taking shape of signal (of numpy array) vs samping frequency (hz)\n"
   ]
  },
  {
   "cell_type": "code",
   "execution_count": 238,
   "metadata": {},
   "outputs": [
    {
     "data": {
      "text/plain": [
       "array([ 2.600e+01,  1.200e+01,  6.270e+02, -1.650e+03,  8.084e+03,\n",
       "        8.125e+03, -7.000e+00,  3.300e+01])"
      ]
     },
     "execution_count": 238,
     "metadata": {},
     "output_type": "execute_result"
    }
   ],
   "source": [
    "cardio_record_1.p_signal.shape\n",
    "cardio_record_1.p_signal[0]"
   ]
  },
  {
   "cell_type": "code",
   "execution_count": 245,
   "metadata": {},
   "outputs": [
    {
     "data": {
      "text/plain": [
       "Text(0.5, 1.0, 'S0033ECG')"
      ]
     },
     "execution_count": 245,
     "metadata": {},
     "output_type": "execute_result"
    },
    {
     "data": {
      "image/png": "[encoded data removed]",
      "text/plain": [
       "<Figure size 1800x576 with 6 Axes>"
      ]
     },
     "metadata": {
      "needs_background": "light"
     },
     "output_type": "display_data"
    }
   ],
   "source": [
    "figure, axis = plt.subplots(2, 3, figsize=(25, 8))\n",
    "L = 3000\n",
    "axis[0, 0].plot(cardio_record_1.p_signal[0:-1, 5])\n",
    "axis[0, 0].set_title(cardio_record_1.record_name)"
   ]
  },
  {
   "cell_type": "markdown",
   "metadata": {},
   "source": [
    "# PTB-xl"
   ]
  },
  {
   "cell_type": "code",
   "execution_count": null,
   "metadata": {},
   "outputs": [],
   "source": [
    "ptb_record_1 = wfdb.rdrecord('data-raw/ptb-xl/records500/00000/00001_hr')\n",
    "display(ptb_record_1.__dict__)"
   ]
  },
  {
   "cell_type": "markdown",
   "metadata": {},
   "source": [
    "### Convert to hdf5.py\n"
   ]
  },
  {
   "cell_type": "code",
   "execution_count": 11,
   "metadata": {},
   "outputs": [],
   "source": [
    "# Imports\n",
    "import h5py\n",
    "import wfdb\n",
    "import numpy as np"
   ]
  },
  {
   "cell_type": "markdown",
   "metadata": {},
   "source": [
    "Read in data"
   ]
  },
  {
   "cell_type": "code",
   "execution_count": 10,
   "metadata": {},
   "outputs": [],
   "source": [
    "# \n",
    "record = wfdb.rdrecord('data-raw/ptb-xl/records500/00000/00001_hr')"
   ]
  },
  {
   "cell_type": "markdown",
   "metadata": {},
   "source": [
    "Seperate to numpy arrays"
   ]
  },
  {
   "cell_type": "code",
   "execution_count": 492,
   "metadata": {},
   "outputs": [
    {
     "ename": "ValueError",
     "evalue": "all the input array dimensions for the concatenation axis must match exactly, but along dimension 1, the array at index 0 has size 2 and the array at index 1 has size 1",
     "output_type": "error",
     "traceback": [
      "\u001b[0;31m---------------------------------------------------------------------------\u001b[0m",
      "\u001b[0;31mValueError\u001b[0m                                Traceback (most recent call last)",
      "\u001b[1;32m/Users/andersaskeland/Documents/3 - Data science/ddECG (Github)/read_data.ipynb Cell 16'\u001b[0m in \u001b[0;36m<cell line: 15>\u001b[0;34m()\u001b[0m\n\u001b[1;32m     <a href='vscode-notebook-cell:/Users/andersaskeland/Documents/3%20-%20Data%20science/ddECG%20%28Github%29/read_data.ipynb#ch0000030?line=11'>12</a>\u001b[0m a \u001b[39m=\u001b[39m np\u001b[39m.\u001b[39marray([[\u001b[39m1\u001b[39m, \u001b[39m2\u001b[39m], [\u001b[39m3\u001b[39m, \u001b[39m4\u001b[39m]])\n\u001b[1;32m     <a href='vscode-notebook-cell:/Users/andersaskeland/Documents/3%20-%20Data%20science/ddECG%20%28Github%29/read_data.ipynb#ch0000030?line=12'>13</a>\u001b[0m b \u001b[39m=\u001b[39m np\u001b[39m.\u001b[39marray([[\u001b[39m5\u001b[39m, \u001b[39m6\u001b[39m]])\n\u001b[0;32m---> <a href='vscode-notebook-cell:/Users/andersaskeland/Documents/3%20-%20Data%20science/ddECG%20%28Github%29/read_data.ipynb#ch0000030?line=14'>15</a>\u001b[0m np\u001b[39m.\u001b[39;49mvstack((a, \u001b[39m0\u001b[39;49m))\n\u001b[1;32m     <a href='vscode-notebook-cell:/Users/andersaskeland/Documents/3%20-%20Data%20science/ddECG%20%28Github%29/read_data.ipynb#ch0000030?line=15'>16</a>\u001b[0m \u001b[39mprint\u001b[39m(a\u001b[39m.\u001b[39mshape)\n\u001b[1;32m     <a href='vscode-notebook-cell:/Users/andersaskeland/Documents/3%20-%20Data%20science/ddECG%20%28Github%29/read_data.ipynb#ch0000030?line=16'>17</a>\u001b[0m \u001b[39mprint\u001b[39m(b\u001b[39m.\u001b[39mshape)\n",
      "File \u001b[0;32m<__array_function__ internals>:180\u001b[0m, in \u001b[0;36mvstack\u001b[0;34m(*args, **kwargs)\u001b[0m\n",
      "File \u001b[0;32m~/.pyenv/versions/3.8.7/envs/ddECG/lib/python3.8/site-packages/numpy/core/shape_base.py:282\u001b[0m, in \u001b[0;36mvstack\u001b[0;34m(tup)\u001b[0m\n\u001b[1;32m    <a href='file:///Users/andersaskeland/.pyenv/versions/3.8.7/envs/ddECG/lib/python3.8/site-packages/numpy/core/shape_base.py?line=279'>280</a>\u001b[0m \u001b[39mif\u001b[39;00m \u001b[39mnot\u001b[39;00m \u001b[39misinstance\u001b[39m(arrs, \u001b[39mlist\u001b[39m):\n\u001b[1;32m    <a href='file:///Users/andersaskeland/.pyenv/versions/3.8.7/envs/ddECG/lib/python3.8/site-packages/numpy/core/shape_base.py?line=280'>281</a>\u001b[0m     arrs \u001b[39m=\u001b[39m [arrs]\n\u001b[0;32m--> <a href='file:///Users/andersaskeland/.pyenv/versions/3.8.7/envs/ddECG/lib/python3.8/site-packages/numpy/core/shape_base.py?line=281'>282</a>\u001b[0m \u001b[39mreturn\u001b[39;00m _nx\u001b[39m.\u001b[39;49mconcatenate(arrs, \u001b[39m0\u001b[39;49m)\n",
      "File \u001b[0;32m<__array_function__ internals>:180\u001b[0m, in \u001b[0;36mconcatenate\u001b[0;34m(*args, **kwargs)\u001b[0m\n",
      "\u001b[0;31mValueError\u001b[0m: all the input array dimensions for the concatenation axis must match exactly, but along dimension 1, the array at index 0 has size 2 and the array at index 1 has size 1"
     ]
    }
   ],
   "source": [
    "# Extract signal\n",
    "signal_raw = np.array(record.p_signal)\n",
    "\n",
    "# Cleave signal into correct size (4096) - Trim on both sides\n",
    "signal_cut = signal_raw.shape[0] - 4096\n",
    "signal_top = int(signal_raw.shape[0] - (signal_cut/2))\n",
    "signal_bottom = int(signal_cut/2)\n",
    "signal = signal_raw[signal_bottom:signal_top]\n",
    "\n",
    "\n",
    "\n",
    "a = np.array([[1, 2], [3, 4]])\n",
    "b = np.array([[5, 6]])\n",
    "\n",
    "np.vstack((a, 0))\n",
    "print(a.shape)\n",
    "print(b.shape)\n",
    "# Combine signals\n",
    "# a_3d_array = np.zeros((0, 4096, 12))\n",
    "signal1 = signal\n",
    "# list()\n",
    "signal = np.stack((signal,signal), axis=0)\n",
    "print(signal.shape)\n",
    "# print(np.dstack(signal,signal1).shape)\n",
    "\n",
    "a = np.append([[1, 2, 3], [4, 5, 6]], [[7, 8, 9]], axis=0)\n",
    "print(a.shape)\n",
    "# print(a_3d_array.shape)\n",
    "\n",
    "# Extract exam id and convert to int\n",
    "exam_id = record.record_name\n",
    "regex_pattern = '_hr'\n",
    "exam_id = int(re.sub(regex_pattern, '', exam_id))\n",
    "print(signal.shape)"
   ]
  },
  {
   "cell_type": "code",
   "execution_count": 15,
   "metadata": {},
   "outputs": [
    {
     "name": "stdout",
     "output_type": "stream",
     "text": [
      "(2, 2)\n",
      "4\n"
     ]
    }
   ],
   "source": [
    "a = np.array([[1, 2], [3, 4]])\n",
    "b = np.array([[1, 2], [3, 4]])\n",
    "\n",
    "result_arr = [a, b, a, b]\n",
    "\n",
    "result_arr = np.stack(result_arr, axis=0)\n",
    "\n",
    "print(a.shape)\n",
    "print(result_arr.shape[0])"
   ]
  },
  {
   "cell_type": "markdown",
   "metadata": {},
   "source": [
    "Create h5py file"
   ]
  },
  {
   "cell_type": "code",
   "execution_count": 452,
   "metadata": {},
   "outputs": [],
   "source": [
    "os.remove('data/test.hdf5')\n",
    "with h5py.File('data/test.hdf5', 'w') as f:\n",
    "    # f.create_group('exam_id', (20001,), type='int64')\n",
    "    # f.create_group('tracings', (20001, 4096, 12), type='<f4')\n",
    "    f.create_dataset(\"tracings\", (2, 4096, 12), data=signal, dtype='<f4')\n",
    "    f.create_dataset(\"exam_id\", data=exam_id, dtype='int64')\n",
    "\n",
    "    # f.create_group('exam_id',(100,))"
   ]
  },
  {
   "cell_type": "code",
   "execution_count": 399,
   "metadata": {},
   "outputs": [
    {
     "name": "stdout",
     "output_type": "stream",
     "text": [
      "['exam_id', 'tracings']\n",
      "Tracing shape: (2, 4096, 12)\n",
      "Tracing dtype: float32\n",
      "Tracing shape: ()\n",
      "Tracing dtype: int64\n"
     ]
    }
   ],
   "source": [
    "test_f = h5py.File(\"data/test.hdf5\", \"r\")\n",
    "print(list(test_f.keys()))\n",
    "print(f\"Tracing shape: {test_f['tracings'].shape}\")\n",
    "print(f\"Tracing dtype: {test_f['tracings'].dtype}\")\n",
    "print(f\"Tracing shape: {test_f['exam_id'].shape}\")\n",
    "print(f\"Tracing dtype: {test_f['exam_id'].dtype}\")"
   ]
  },
  {
   "cell_type": "code",
   "execution_count": 281,
   "metadata": {},
   "outputs": [
    {
     "data": {
      "text/plain": [
       "['bar', 'bars']"
      ]
     },
     "execution_count": 281,
     "metadata": {},
     "output_type": "execute_result"
    }
   ],
   "source": [
    "f = h5py.File('foo.hdf5','w')\n",
    "grp = f.create_group(\"bar\", (,), dtype='<f4')\n",
    "f.create_group(\"bars\", (100,))\n",
    "list(f.keys())"
   ]
  },
  {
   "cell_type": "markdown",
   "metadata": {},
   "source": [
    "#### Open file w. wfdb"
   ]
  },
  {
   "cell_type": "code",
   "execution_count": 246,
   "metadata": {},
   "outputs": [],
   "source": [
    "ptb_record_1 = wfdb.rdrecord('data-raw/ptb-xl/records500/00000/00001_hr')\n"
   ]
  },
  {
   "cell_type": "code",
   "execution_count": 355,
   "metadata": {},
   "outputs": [],
   "source": [
    "# Testing - Look at other files\n",
    "f = h5py.File(\"data-raw/code-15/exams_part0.hdf5\", \"r\")\n",
    "test_f = h5py.File(\"data/test.hdf5\", \"r\")"
   ]
  },
  {
   "cell_type": "code",
   "execution_count": 16,
   "metadata": {},
   "outputs": [],
   "source": [
    "# Testing - Look at other files\n",
    "f = h5py.File(\"data-raw/test.hdf5\", \"r\")"
   ]
  },
  {
   "cell_type": "code",
   "execution_count": 17,
   "metadata": {},
   "outputs": [
    {
     "data": {
      "text/plain": [
       "['exam_id', 'tracings']"
      ]
     },
     "execution_count": 17,
     "metadata": {},
     "output_type": "execute_result"
    }
   ],
   "source": [
    "list(f.keys())\n"
   ]
  },
  {
   "cell_type": "code",
   "execution_count": 22,
   "metadata": {},
   "outputs": [],
   "source": [
    "dset = f['exam_id']"
   ]
  },
  {
   "cell_type": "code",
   "execution_count": 30,
   "metadata": {},
   "outputs": [
    {
     "data": {
      "text/plain": [
       "58"
      ]
     },
     "execution_count": 30,
     "metadata": {},
     "output_type": "execute_result"
    }
   ],
   "source": [
    "dset[104]"
   ]
  },
  {
   "cell_type": "markdown",
   "metadata": {},
   "source": [
    "ptb_record_1 = wfdb.rdrecord('data-raw/ptb-xl/records500/00000/00001_hr')\n",
    "    "
   ]
  },
  {
   "cell_type": "code",
   "execution_count": 264,
   "metadata": {},
   "outputs": [
    {
     "data": {
      "text/plain": [
       "dtype('int64')"
      ]
     },
     "execution_count": 264,
     "metadata": {},
     "output_type": "execute_result"
    }
   ],
   "source": [
    "dset.dtype"
   ]
  },
  {
   "cell_type": "code",
   "execution_count": 271,
   "metadata": {},
   "outputs": [
    {
     "ename": "NameError",
     "evalue": "name 'sample_dict' is not defined",
     "output_type": "error",
     "traceback": [
      "\u001b[0;31m---------------------------------------------------------------------------\u001b[0m",
      "\u001b[0;31mNameError\u001b[0m                                 Traceback (most recent call last)",
      "\u001b[1;32m/Users/andersaskeland/Documents/3 - Data science/ddECG (Github)/read_data.ipynb Cell 23'\u001b[0m in \u001b[0;36m<cell line: 1>\u001b[0;34m()\u001b[0m\n\u001b[1;32m      <a href='vscode-notebook-cell:/Users/andersaskeland/Documents/3%20-%20Data%20science/ddECG%20%28Github%29/read_data.ipynb#ch0000024?line=0'>1</a>\u001b[0m \u001b[39mwith\u001b[39;00m h5py\u001b[39m.\u001b[39mFile(\u001b[39m\"\u001b[39m\u001b[39mSO_61351577_1.h5\u001b[39m\u001b[39m\"\u001b[39m, \u001b[39m'\u001b[39m\u001b[39mw\u001b[39m\u001b[39m'\u001b[39m) \u001b[39mas\u001b[39;00m h5f:\n\u001b[0;32m----> <a href='vscode-notebook-cell:/Users/andersaskeland/Documents/3%20-%20Data%20science/ddECG%20%28Github%29/read_data.ipynb#ch0000024?line=1'>2</a>\u001b[0m   \u001b[39mfor\u001b[39;00m sample_N \u001b[39min\u001b[39;00m sample_dict:\n\u001b[1;32m      <a href='vscode-notebook-cell:/Users/andersaskeland/Documents/3%20-%20Data%20science/ddECG%20%28Github%29/read_data.ipynb#ch0000024?line=2'>3</a>\u001b[0m     \u001b[39mfor\u001b[39;00m gene_pair, cor_val \u001b[39min\u001b[39;00m sample_dict\u001b[39m.\u001b[39mget(sample_N)\u001b[39m.\u001b[39mitems():\n\u001b[1;32m      <a href='vscode-notebook-cell:/Users/andersaskeland/Documents/3%20-%20Data%20science/ddECG%20%28Github%29/read_data.ipynb#ch0000024?line=3'>4</a>\u001b[0m         gene_dt \u001b[39m=\u001b[39m np\u001b[39m.\u001b[39mdtype ([ (\u001b[39m'\u001b[39m\u001b[39mSample\u001b[39m\u001b[39m'\u001b[39m, \u001b[39m'\u001b[39m\u001b[39mS20\u001b[39m\u001b[39m'\u001b[39m), (\u001b[39m'\u001b[39m\u001b[39mID\u001b[39m\u001b[39m'\u001b[39m, \u001b[39mint\u001b[39m), (\u001b[39m'\u001b[39m\u001b[39mValue\u001b[39m\u001b[39m'\u001b[39m, \u001b[39mfloat\u001b[39m) ]) \n",
      "\u001b[0;31mNameError\u001b[0m: name 'sample_dict' is not defined"
     ]
    }
   ],
   "source": []
  }
 ],
 "metadata": {
  "interpreter": {
   "hash": "e3550a240b7c6c0d9065f17b075d8570cb5328150f6e187f5e8dc06568697b87"
  },
  "kernelspec": {
   "display_name": "Python 3.8.7 64-bit ('ddECG')",
   "language": "python",
   "name": "python3"
  },
  "language_info": {
   "codemirror_mode": {
    "name": "ipython",
    "version": 3
   },
   "file_extension": ".py",
   "mimetype": "text/x-python",
   "name": "python",
   "nbconvert_exporter": "python",
   "pygments_lexer": "ipython3",
   "version": "3.8.7"
  },
  "orig_nbformat": 4
 },
 "nbformat": 4,
 "nbformat_minor": 2
}
